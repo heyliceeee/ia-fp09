{
 "cells": [
  {
   "metadata": {
    "ExecuteTime": {
     "end_time": "2025-04-29T10:24:08.506772Z",
     "start_time": "2025-04-29T10:24:08.500567Z"
    }
   },
   "cell_type": "code",
   "source": [
    "import random\n",
    "import string"
   ],
   "id": "b747173441c0dfd6",
   "outputs": [],
   "execution_count": 1
  },
  {
   "metadata": {},
   "cell_type": "markdown",
   "source": [
    "#### Considere q se pretendia desenvolver um AG pra adivinhar uma palavra “escondida”. Sabe-se apenas o tam da palavra (e.g. 6 caracteres). Embora neste momento ainda n saiba implementar, na sua totalidade, um AG, podem implementar-se alguns dos elems que permitem iniciar a resolução deste problema, nomeadamente:\n",
    "##### a) Implemente a função de inicialização pra este problema. Esta função deve criar uma população constituída por 100 indivíduos, cujos cromossomas são compostos por sequências aleatórias de caracteres, c o mm tam da frase a reproduzir."
   ],
   "id": "ab489724560cb5a8"
  },
  {
   "cell_type": "code",
   "id": "initial_id",
   "metadata": {
    "collapsed": true,
    "ExecuteTime": {
     "end_time": "2025-04-29T10:24:31.275361Z",
     "start_time": "2025-04-29T10:24:31.268577Z"
    }
   },
   "source": [
    "def inicializar_populacao(tamanho_populacao=100, tamanho_palavra=6):\n",
    "    populacao = []\n",
    "\n",
    "    for _ in range(tamanho_populacao):\n",
    "        individuo = ''.join(random.choices(string.ascii_lowercase, k=tamanho_palavra)) #escolhe 6 letras de a a z de forma random\n",
    "        populacao.append(individuo)\n",
    "\n",
    "    return populacao"
   ],
   "outputs": [],
   "execution_count": 2
  },
  {
   "metadata": {},
   "cell_type": "markdown",
   "source": "##### b) Identifique uma função de fitness apropriada pra este problema e implemente-a. Note q neste caso, pra implementar a função de fitness, tem de saber a solução q se procura (a palavra escondida). Isto n acontece numa aplicação de AGs, em q a busca é cega, tratando-se apenas de um caso de estudo simples.",
   "id": "7bfbe9356b0632c4"
  },
  {
   "metadata": {
    "ExecuteTime": {
     "end_time": "2025-04-29T10:27:48.945076Z",
     "start_time": "2025-04-29T10:27:48.938737Z"
    }
   },
   "cell_type": "code",
   "source": [
    "# calcular o n. de caracteres na posição correta (semelhante a uma contagem de \"matches\").\n",
    "def calcular_fitness(individuo, palavra_objetivo):\n",
    "    fitness = 0\n",
    "\n",
    "    for i in range(len(individuo)):\n",
    "        if individuo[i] == palavra_objetivo[i]:\n",
    "            fitness += 1\n",
    "\n",
    "    return fitness"
   ],
   "id": "3eced9c404cb9116",
   "outputs": [],
   "execution_count": 4
  },
  {
   "metadata": {},
   "cell_type": "markdown",
   "source": "##### c) Pra cd indivíduo calcule o seu fitness e ordene a população por ordem decrescente de fitness. Imprima as mhres 5 soluções e comprove q são de facto as + semelhantes à palavra a adivinhar.",
   "id": "65f464f18e3cf544"
  },
  {
   "metadata": {
    "ExecuteTime": {
     "end_time": "2025-04-29T10:30:57.099464Z",
     "start_time": "2025-04-29T10:30:57.094951Z"
    }
   },
   "cell_type": "code",
   "source": [
    "# Avaliar, ordenar e mostrar top 5\n",
    "def avaliar_populacao(populacao, palavra_objetivo):\n",
    "    avaliados = [(individuo, calcular_fitness(individuo, palavra_objetivo)) for individuo in populacao]\n",
    "    avaliados_ordenados = sorted(avaliados, key=lambda x: x[1], reverse=True)\n",
    "\n",
    "    return avaliados_ordenados"
   ],
   "id": "fe5f542e86e6d9d8",
   "outputs": [],
   "execution_count": 6
  },
  {
   "metadata": {
    "ExecuteTime": {
     "end_time": "2025-04-29T10:32:49.668339Z",
     "start_time": "2025-04-29T10:32:49.650687Z"
    }
   },
   "cell_type": "code",
   "source": [
    "# Palavra escondida\n",
    "palavra_secreta = \"alice\"\n",
    "\n",
    "# Executar tudo\n",
    "populacao = inicializar_populacao(tamanho_populacao=100, tamanho_palavra=len(palavra_secreta))\n",
    "populacao_avaliada = avaliar_populacao(populacao, palavra_secreta)\n",
    "\n",
    "# Mostrar top 5\n",
    "print(\"\\nTop 5 soluções mais semelhantes à palavra secreta:\")\n",
    "for i in range(5):\n",
    "    ind, fit = populacao_avaliada[i]\n",
    "    print(f\"{i+1}. Indivíduo: {ind} | Fitness: {fit} / {len(palavra_secreta)}\")"
   ],
   "id": "12dd96b210ac09b6",
   "outputs": [
    {
     "name": "stdout",
     "output_type": "stream",
     "text": [
      "\n",
      "Top 5 soluções mais semelhantes à palavra secreta:\n",
      "1. Indivíduo: alhol | Fitness: 2 / 5\n",
      "2. Indivíduo: zyacu | Fitness: 1 / 5\n",
      "3. Indivíduo: aajfg | Fitness: 1 / 5\n",
      "4. Indivíduo: rlazp | Fitness: 1 / 5\n",
      "5. Indivíduo: ffmcn | Fitness: 1 / 5\n"
     ]
    }
   ],
   "execution_count": 44
  }
 ],
 "metadata": {
  "kernelspec": {
   "display_name": "Python 3",
   "language": "python",
   "name": "python3"
  },
  "language_info": {
   "codemirror_mode": {
    "name": "ipython",
    "version": 2
   },
   "file_extension": ".py",
   "mimetype": "text/x-python",
   "name": "python",
   "nbconvert_exporter": "python",
   "pygments_lexer": "ipython2",
   "version": "2.7.6"
  }
 },
 "nbformat": 4,
 "nbformat_minor": 5
}
