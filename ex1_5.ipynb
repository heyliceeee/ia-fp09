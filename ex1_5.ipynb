{
 "cells": [
  {
   "metadata": {
    "ExecuteTime": {
     "end_time": "2025-04-29T10:34:00.704409Z",
     "start_time": "2025-04-29T10:34:00.698511Z"
    }
   },
   "cell_type": "code",
   "source": [
    "import random\n",
    "import string"
   ],
   "id": "b747173441c0dfd6",
   "outputs": [],
   "execution_count": 1
  },
  {
   "metadata": {},
   "cell_type": "markdown",
   "source": [
    "#### Considere agr uma variante do ex anterior ao estilo do jogo Wordle. Nesse sentido, considere a existência da função evaluate, apresentada abaixo.\n",
    "#### Esta função devolve um array c o mm tam da palavra a adivinhar e q contém, em cd posição, um dos seguintes n.:\n",
    "#### - -1 se o caracter nessa posição n existe na palavra a adivinhar\n",
    "#### - 0 se o caracter existe mas numa posição diferente\n",
    "#### - 1 se o caracter existe e na posição correta\n",
    "#### Modifique a função de fitness q desenvolveu anteriormente pra q calcule a qualidade de uma solução c base na info devolvida pela função evaluate. Note q, no caso anterior, o cálculo do fitness poderia ter sido implementado c base no n./percentagem de caracteres corretos. No entanto, uma solução q tem vários caracteres em comum c a palavra a adivinhar, ainda q em posições erradas, é mlhr q uma solução q n tem caracteres em comum (mm q c o mm n. de erros). Esta nova versão de fitness permite distinguir mlhr entre estas situações, logo permitirá a implementação de um AG + eficiente."
   ],
   "id": "ab489724560cb5a8"
  },
  {
   "metadata": {
    "ExecuteTime": {
     "end_time": "2025-04-29T10:51:22.644836Z",
     "start_time": "2025-04-29T10:51:22.639152Z"
    }
   },
   "cell_type": "code",
   "source": [
    "# Funcoes do exercicio anterior\n",
    "def inicializar_populacao(tamanho_populacao=100, tamanho_palavra=6):\n",
    "    populacao = []\n",
    "\n",
    "    for _ in range(tamanho_populacao):\n",
    "        individuo = ''.join(random.choices(string.ascii_lowercase, k=tamanho_palavra)) #escolhe 6 letras de a a z de forma random\n",
    "        populacao.append(individuo)\n",
    "\n",
    "    return populacao\n",
    "\n",
    "\n",
    "def avaliar_populacao(populacao):\n",
    "    avaliados = [(individuo, calcular_fitness_wordle(individuo)) for individuo in populacao]\n",
    "    avaliados_ordenados = sorted(avaliados, key=lambda x: x[1], reverse=True)\n",
    "\n",
    "    return avaliados_ordenados"
   ],
   "id": "ce33d8187cd777bb",
   "outputs": [],
   "execution_count": 7
  },
  {
   "metadata": {
    "ExecuteTime": {
     "end_time": "2025-04-29T10:52:41.795447Z",
     "start_time": "2025-04-29T10:52:41.790442Z"
    }
   },
   "cell_type": "code",
   "source": [
    "# 📥 Função fornecida\n",
    "def evaluate(word):\n",
    "    secret = 'utopia'\n",
    "    if len(word) != len(secret):\n",
    "        raise Exception('Tamanhos diferentes!')\n",
    "\n",
    "    result = []\n",
    "    for i in range(len(word)):\n",
    "        if word[i] == secret[i]:\n",
    "            result.append(1)\n",
    "        elif word[i] in secret:\n",
    "            result.append(0)\n",
    "        else:\n",
    "            result.append(-1)\n",
    "    return result"
   ],
   "id": "653152c7119379a6",
   "outputs": [],
   "execution_count": 11
  },
  {
   "cell_type": "code",
   "id": "initial_id",
   "metadata": {
    "collapsed": true,
    "ExecuteTime": {
     "end_time": "2025-04-29T10:51:34.620927Z",
     "start_time": "2025-04-29T10:51:34.615182Z"
    }
   },
   "source": [
    "# 💡 Nova função de fitness (estilo Wordle)\n",
    "def calcular_fitness_wordle(individuo):\n",
    "    resultado = evaluate(individuo)\n",
    "    fitness = 0\n",
    "    for valor in resultado:\n",
    "        if valor == 1:\n",
    "            fitness += 2  # letra certa e na posição certa\n",
    "        elif valor == 0:\n",
    "            fitness += 1  # letra certa mas posição errada\n",
    "        # -1 não adiciona nada\n",
    "    return fitness"
   ],
   "outputs": [],
   "execution_count": 9
  },
  {
   "metadata": {
    "ExecuteTime": {
     "end_time": "2025-04-29T10:52:49.602245Z",
     "start_time": "2025-04-29T10:52:49.593300Z"
    }
   },
   "cell_type": "code",
   "source": [
    "# Execução\n",
    "pop = inicializar_populacao()\n",
    "avaliada = avaliar_populacao(pop)\n",
    "\n",
    "# Mostrar top 5\n",
    "print(\"\\nTop 5 (com fitness estilo Wordle):\")\n",
    "for i in range(5):\n",
    "    ind, fit = avaliada[i]\n",
    "    print(f\"{i+1}. Indivíduo: {ind} | Fitness: {fit}\")"
   ],
   "id": "f2c1ad41a8f3ff0d",
   "outputs": [
    {
     "name": "stdout",
     "output_type": "stream",
     "text": [
      "\n",
      "Top 5 (com fitness estilo Wordle):\n",
      "1. Indivíduo: uptopl | Fitness: 6\n",
      "2. Indivíduo: urupsb | Fitness: 5\n",
      "3. Indivíduo: ptlaah | Fitness: 5\n",
      "4. Indivíduo: thygia | Fitness: 5\n",
      "5. Indivíduo: ivprka | Fitness: 4\n"
     ]
    }
   ],
   "execution_count": 15
  }
 ],
 "metadata": {
  "kernelspec": {
   "display_name": "Python 3",
   "language": "python",
   "name": "python3"
  },
  "language_info": {
   "codemirror_mode": {
    "name": "ipython",
    "version": 2
   },
   "file_extension": ".py",
   "mimetype": "text/x-python",
   "name": "python",
   "nbconvert_exporter": "python",
   "pygments_lexer": "ipython2",
   "version": "2.7.6"
  }
 },
 "nbformat": 4,
 "nbformat_minor": 5
}
