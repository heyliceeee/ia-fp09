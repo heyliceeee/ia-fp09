{
 "cells": [
  {
   "metadata": {
    "ExecuteTime": {
     "end_time": "2025-04-29T11:16:38.167899Z",
     "start_time": "2025-04-29T11:16:38.164387Z"
    }
   },
   "cell_type": "code",
   "source": [
    "import random\n",
    "import string"
   ],
   "id": "b747173441c0dfd6",
   "outputs": [],
   "execution_count": 2
  },
  {
   "metadata": {},
   "cell_type": "markdown",
   "source": [
    "#### De forma a agilizar o regresso às aulas pós pandemia, a ESTG decidiu reorganizar a distribuição de horários. Ajude a escola neste processo, ao desenvolver uma solução baseada em AGs q seja capaz de realizar um escalonamento de tds as atividades, c base nas seguintes regras:\n",
    "#### - 1. As aulas só podem ser realizadas em salas q estejam livres pra um determinado espaço temporal\n",
    "#### - 2. Cd docente só pode lecionar uma aula de cd vez\n",
    "#### - 3. As salas devem ser suficientemente grds pra acomodar uma turma (se possível o tam das mms deve ser adequado o + possível ao tam da turma).\n",
    "#### Pra desenv uma solução pra este problema considere a existência de Salas, Docentes, UCs, Turmas, Bloco de Horas (considere blocos de 2h), Aulas (combinação de turma, UC, docente, bloco de horas, e sala), e horário.\n",
    "##### a) Defina e crie o seu universo de dados, considerando 𝑛 entidades q representem Salas, Docentes, UCs, Turmas, Blocos de Horas, Aulas, e Horário."
   ],
   "id": "ab489724560cb5a8"
  },
  {
   "cell_type": "code",
   "id": "initial_id",
   "metadata": {
    "collapsed": true,
    "ExecuteTime": {
     "end_time": "2025-04-29T11:16:04.980066Z",
     "start_time": "2025-04-29T11:16:04.971262Z"
    }
   },
   "source": [
    "# Salas\n",
    "salas = [\n",
    "    {\"id\": 1, \"nome\": \"Sala A\", \"capacidade\": 30},\n",
    "    {\"id\": 2, \"nome\": \"Sala B\", \"capacidade\": 40},\n",
    "    {\"id\": 3, \"nome\": \"Sala C\", \"capacidade\": 25}\n",
    "]\n",
    "\n",
    "# Docentes\n",
    "docentes = [\n",
    "    {\"id\": 1, \"nome\": \"Prof. Ana\"},\n",
    "    {\"id\": 2, \"nome\": \"Prof. Bruno\"},\n",
    "    {\"id\": 3, \"nome\": \"Prof. Carla\"}\n",
    "]\n",
    "\n",
    "# Unidades Curriculares\n",
    "ucs = [\n",
    "    {\"id\": 1, \"nome\": \"IA\"},\n",
    "    {\"id\": 2, \"nome\": \"ED\"},\n",
    "    {\"id\": 3, \"nome\": \"Sistemas Distribuídos\"}\n",
    "]\n",
    "\n",
    "# Turmas\n",
    "turmas = [\n",
    "    {\"id\": 1, \"nome\": \"LEI1\", \"tamanho\": 28},\n",
    "    {\"id\": 2, \"nome\": \"LEI2\", \"tamanho\": 35}\n",
    "]\n",
    "\n",
    "# Blocos de Horas (2h cada)\n",
    "blocos_horas = [\n",
    "    {\"id\": 1, \"dia\": \"Segunda\", \"periodo\": \"Manhã\"},\n",
    "    {\"id\": 2, \"dia\": \"Segunda\", \"periodo\": \"Tarde\"},\n",
    "    {\"id\": 3, \"dia\": \"Quarta\",  \"periodo\": \"Manhã\"},\n",
    "    {\"id\": 4, \"dia\": \"Quarta\",  \"periodo\": \"Tarde\"}\n",
    "]\n",
    "\n",
    "# Aula = combinação de turma + UC + docente + bloco + sala\n",
    "# (vamos gerar depois nos indivíduos, mas aqui estão as entidades base)"
   ],
   "outputs": [],
   "execution_count": 1
  },
  {
   "metadata": {},
   "cell_type": "markdown",
   "source": "##### b) Construa uma população composta por 100 indivíduos cujos cromossomas são compostos por combinações randoms de aulas q fazem parte de um horário.",
   "id": "7bfbe9356b0632c4"
  },
  {
   "metadata": {
    "ExecuteTime": {
     "end_time": "2025-04-29T11:16:57.861597Z",
     "start_time": "2025-04-29T11:16:57.855949Z"
    }
   },
   "cell_type": "code",
   "source": [
    "# Gerar uma aula aleatória\n",
    "def gerar_aula():\n",
    "    return {\n",
    "        \"turma\": random.choice(turmas),\n",
    "        \"uc\": random.choice(ucs),\n",
    "        \"docente\": random.choice(docentes),\n",
    "        \"sala\": random.choice(salas),\n",
    "        \"bloco\": random.choice(blocos_horas)\n",
    "    }\n",
    "\n",
    "# Criar um cromossoma (horário com n aulas por turma)\n",
    "def criar_individuo(aulas_por_turma=3):\n",
    "    individuo = []\n",
    "    for turma in turmas:\n",
    "        for _ in range(aulas_por_turma):\n",
    "            aula = gerar_aula()\n",
    "            aula[\"turma\"] = turma  # garantir que respeita a turma atual\n",
    "            individuo.append(aula)\n",
    "    return individuo\n",
    "\n",
    "# Criar população de 100 indivíduos\n",
    "def criar_populacao(tamanho_populacao=100, aulas_por_turma=3):\n",
    "    return [criar_individuo(aulas_por_turma) for _ in range(tamanho_populacao)]"
   ],
   "id": "3eced9c404cb9116",
   "outputs": [],
   "execution_count": 3
  },
  {
   "metadata": {
    "ExecuteTime": {
     "end_time": "2025-04-29T11:17:16.113687Z",
     "start_time": "2025-04-29T11:17:16.107182Z"
    }
   },
   "cell_type": "code",
   "source": [
    "# 📌 Exemplo de uso\n",
    "populacao = criar_populacao()\n",
    "\n",
    "# Mostrar 1º horário\n",
    "print(\"Exemplo de cromossoma (horário):\")\n",
    "for aula in populacao[0]:\n",
    "    print(f\"Turma {aula['turma']['nome']} | UC: {aula['uc']['nome']} | Docente: {aula['docente']['nome']} | Sala: {aula['sala']['nome']} | Bloco: {aula['bloco']['dia']} - {aula['bloco']['periodo']}\")"
   ],
   "id": "1e665ec300568e3c",
   "outputs": [
    {
     "name": "stdout",
     "output_type": "stream",
     "text": [
      "Exemplo de cromossoma (horário):\n",
      "Turma LEI1 | UC: Sistemas Distribuídos | Docente: Prof. Carla | Sala: Sala A | Bloco: Quarta - Manhã\n",
      "Turma LEI1 | UC: Sistemas Distribuídos | Docente: Prof. Carla | Sala: Sala C | Bloco: Segunda - Tarde\n",
      "Turma LEI1 | UC: Sistemas Distribuídos | Docente: Prof. Carla | Sala: Sala C | Bloco: Segunda - Manhã\n",
      "Turma LEI2 | UC: Sistemas Distribuídos | Docente: Prof. Ana | Sala: Sala B | Bloco: Segunda - Manhã\n",
      "Turma LEI2 | UC: ED | Docente: Prof. Ana | Sala: Sala A | Bloco: Segunda - Tarde\n",
      "Turma LEI2 | UC: IA | Docente: Prof. Bruno | Sala: Sala B | Bloco: Segunda - Manhã\n"
     ]
    }
   ],
   "execution_count": 4
  },
  {
   "metadata": {},
   "cell_type": "markdown",
   "source": "##### c)  Identifique qual seria a função de fitness + adequada pra esta solução. Implemente-a",
   "id": "65f464f18e3cf544"
  },
  {
   "metadata": {
    "ExecuteTime": {
     "end_time": "2025-04-29T11:18:17.374397Z",
     "start_time": "2025-04-29T11:18:17.368894Z"
    }
   },
   "cell_type": "code",
   "source": [
    "def calcular_fitness(individuo):\n",
    "    fitness = 100  # começa com pontuação máxima\n",
    "\n",
    "    ocupacao_salas = {}\n",
    "    ocupacao_docentes = {}\n",
    "\n",
    "    for aula in individuo:\n",
    "        bloco = aula[\"bloco\"][\"id\"]\n",
    "        sala = aula[\"sala\"][\"id\"]\n",
    "        docente = aula[\"docente\"][\"id\"]\n",
    "        turma = aula[\"turma\"]\n",
    "        sala_capacidade = aula[\"sala\"][\"capacidade\"]\n",
    "        turma_tamanho = turma[\"tamanho\"]\n",
    "\n",
    "        # Verificar conflito de sala no mesmo bloco\n",
    "        chave_sala = (bloco, sala)\n",
    "        if chave_sala in ocupacao_salas:\n",
    "            fitness -= 10  # penalização por conflito de sala\n",
    "        else:\n",
    "            ocupacao_salas[chave_sala] = True\n",
    "\n",
    "        # Verificar conflito de docente no mesmo bloco\n",
    "        chave_docente = (bloco, docente)\n",
    "        if chave_docente in ocupacao_docentes:\n",
    "            fitness -= 10  # penalização por conflito de docente\n",
    "        else:\n",
    "            ocupacao_docentes[chave_docente] = True\n",
    "\n",
    "        # Verificar adequação da sala\n",
    "        if sala_capacidade < turma_tamanho:\n",
    "            fitness -= 5  # penalização por não caber\n",
    "        else:\n",
    "            diferenca = sala_capacidade - turma_tamanho\n",
    "            fitness -= diferenca * 0.2  # penalização leve por \"espaço a mais\"\n",
    "\n",
    "    return max(fitness, 0)  # fitness nunca deve ser negativo"
   ],
   "id": "fe5f542e86e6d9d8",
   "outputs": [],
   "execution_count": 5
  },
  {
   "metadata": {
    "ExecuteTime": {
     "end_time": "2025-04-29T11:18:44.291193Z",
     "start_time": "2025-04-29T11:18:44.285862Z"
    }
   },
   "cell_type": "code",
   "source": [
    "# 📌 Exemplo de uso com a população da alínea b):\n",
    "# Calcular fitness para todos os indivíduos\n",
    "fitness_pop = [(ind, calcular_fitness(ind)) for ind in populacao]\n",
    "\n",
    "# Ordenar por melhor fitness\n",
    "fitness_pop.sort(key=lambda x: x[1], reverse=True)\n",
    "\n",
    "# Mostrar os 5 melhores horários\n",
    "print(\"\\nTop 5 horários:\")\n",
    "for i in range(5):\n",
    "    print(f\"{i+1}. Fitness: {fitness_pop[i][1]}\")"
   ],
   "id": "692b74f1d471de9c",
   "outputs": [
    {
     "name": "stdout",
     "output_type": "stream",
     "text": [
      "\n",
      "Top 5 horários:\n",
      "1. Fitness: 87.79999999999998\n",
      "2. Fitness: 85.79999999999998\n",
      "3. Fitness: 83.79999999999998\n",
      "4. Fitness: 83.79999999999998\n",
      "5. Fitness: 82.6\n"
     ]
    }
   ],
   "execution_count": 6
  },
  {
   "metadata": {},
   "cell_type": "markdown",
   "source": "##### d) Calcule o valor de fitness pra cd individuo q está presente na população inicial.",
   "id": "648f7299c5da1efa"
  },
  {
   "metadata": {
    "ExecuteTime": {
     "end_time": "2025-04-29T11:19:32.693218Z",
     "start_time": "2025-04-29T11:19:32.685880Z"
    }
   },
   "cell_type": "code",
   "source": [
    "# Avaliar fitness de toda a população\n",
    "fitness_populacao = [(individuo, calcular_fitness(individuo)) for individuo in populacao]\n",
    "\n",
    "# Ordenar por fitness decrescente\n",
    "fitness_populacao.sort(key=lambda x: x[1], reverse=True)\n",
    "\n",
    "# Mostrar os 5 melhores horários\n",
    "print(\"\\nTop 5 indivíduos com melhor fitness:\")\n",
    "for i, (ind, fit) in enumerate(fitness_populacao[:5]):\n",
    "    print(f\"{i+1}. Fitness: {fit}\")\n",
    "    for aula in ind:\n",
    "        print(f\"   Turma: {aula['turma']['nome']}, UC: {aula['uc']['nome']}, Docente: {aula['docente']['nome']}, Sala: {aula['sala']['nome']}, Bloco: {aula['bloco']['dia']} {aula['bloco']['periodo']}\")\n",
    "    print(\"-\" * 60)"
   ],
   "id": "12dd96b210ac09b6",
   "outputs": [
    {
     "name": "stdout",
     "output_type": "stream",
     "text": [
      "\n",
      "Top 5 indivíduos com melhor fitness:\n",
      "1. Fitness: 87.79999999999998\n",
      "   Turma: LEI1, UC: IA, Docente: Prof. Bruno, Sala: Sala A, Bloco: Quarta Manhã\n",
      "   Turma: LEI1, UC: Sistemas Distribuídos, Docente: Prof. Ana, Sala: Sala A, Bloco: Segunda Manhã\n",
      "   Turma: LEI1, UC: Sistemas Distribuídos, Docente: Prof. Ana, Sala: Sala A, Bloco: Segunda Tarde\n",
      "   Turma: LEI2, UC: IA, Docente: Prof. Ana, Sala: Sala C, Bloco: Quarta Manhã\n",
      "   Turma: LEI2, UC: ED, Docente: Prof. Carla, Sala: Sala C, Bloco: Quarta Tarde\n",
      "   Turma: LEI2, UC: Sistemas Distribuídos, Docente: Prof. Bruno, Sala: Sala B, Bloco: Segunda Tarde\n",
      "------------------------------------------------------------\n",
      "2. Fitness: 85.79999999999998\n",
      "   Turma: LEI1, UC: Sistemas Distribuídos, Docente: Prof. Ana, Sala: Sala B, Bloco: Quarta Manhã\n",
      "   Turma: LEI1, UC: IA, Docente: Prof. Ana, Sala: Sala A, Bloco: Quarta Tarde\n",
      "   Turma: LEI1, UC: IA, Docente: Prof. Carla, Sala: Sala A, Bloco: Segunda Tarde\n",
      "   Turma: LEI2, UC: IA, Docente: Prof. Carla, Sala: Sala A, Bloco: Segunda Manhã\n",
      "   Turma: LEI2, UC: Sistemas Distribuídos, Docente: Prof. Ana, Sala: Sala C, Bloco: Segunda Tarde\n",
      "   Turma: LEI2, UC: IA, Docente: Prof. Bruno, Sala: Sala B, Bloco: Segunda Tarde\n",
      "------------------------------------------------------------\n",
      "3. Fitness: 83.79999999999998\n",
      "   Turma: LEI1, UC: ED, Docente: Prof. Ana, Sala: Sala A, Bloco: Quarta Manhã\n",
      "   Turma: LEI1, UC: IA, Docente: Prof. Bruno, Sala: Sala B, Bloco: Segunda Manhã\n",
      "   Turma: LEI1, UC: Sistemas Distribuídos, Docente: Prof. Ana, Sala: Sala B, Bloco: Quarta Tarde\n",
      "   Turma: LEI2, UC: ED, Docente: Prof. Carla, Sala: Sala B, Bloco: Segunda Tarde\n",
      "   Turma: LEI2, UC: IA, Docente: Prof. Bruno, Sala: Sala C, Bloco: Quarta Tarde\n",
      "   Turma: LEI2, UC: Sistemas Distribuídos, Docente: Prof. Bruno, Sala: Sala C, Bloco: Segunda Tarde\n",
      "------------------------------------------------------------\n",
      "4. Fitness: 83.79999999999998\n",
      "   Turma: LEI1, UC: IA, Docente: Prof. Bruno, Sala: Sala B, Bloco: Segunda Manhã\n",
      "   Turma: LEI1, UC: ED, Docente: Prof. Carla, Sala: Sala B, Bloco: Segunda Tarde\n",
      "   Turma: LEI1, UC: ED, Docente: Prof. Carla, Sala: Sala A, Bloco: Segunda Manhã\n",
      "   Turma: LEI2, UC: IA, Docente: Prof. Carla, Sala: Sala C, Bloco: Quarta Tarde\n",
      "   Turma: LEI2, UC: IA, Docente: Prof. Ana, Sala: Sala A, Bloco: Quarta Tarde\n",
      "   Turma: LEI2, UC: IA, Docente: Prof. Carla, Sala: Sala B, Bloco: Quarta Manhã\n",
      "------------------------------------------------------------\n",
      "5. Fitness: 82.6\n",
      "   Turma: LEI1, UC: IA, Docente: Prof. Ana, Sala: Sala C, Bloco: Quarta Manhã\n",
      "   Turma: LEI1, UC: IA, Docente: Prof. Ana, Sala: Sala C, Bloco: Segunda Manhã\n",
      "   Turma: LEI1, UC: IA, Docente: Prof. Carla, Sala: Sala A, Bloco: Segunda Manhã\n",
      "   Turma: LEI2, UC: Sistemas Distribuídos, Docente: Prof. Ana, Sala: Sala B, Bloco: Segunda Tarde\n",
      "   Turma: LEI2, UC: Sistemas Distribuídos, Docente: Prof. Carla, Sala: Sala B, Bloco: Quarta Tarde\n",
      "   Turma: LEI2, UC: Sistemas Distribuídos, Docente: Prof. Bruno, Sala: Sala A, Bloco: Quarta Manhã\n",
      "------------------------------------------------------------\n"
     ]
    }
   ],
   "execution_count": 7
  }
 ],
 "metadata": {
  "kernelspec": {
   "display_name": "Python 3",
   "language": "python",
   "name": "python3"
  },
  "language_info": {
   "codemirror_mode": {
    "name": "ipython",
    "version": 2
   },
   "file_extension": ".py",
   "mimetype": "text/x-python",
   "name": "python",
   "nbconvert_exporter": "python",
   "pygments_lexer": "ipython2",
   "version": "2.7.6"
  }
 },
 "nbformat": 4,
 "nbformat_minor": 5
}
