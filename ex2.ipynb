{
 "cells": [
  {
   "metadata": {
    "ExecuteTime": {
     "end_time": "2025-04-29T11:02:19.493634Z",
     "start_time": "2025-04-29T11:02:19.486166Z"
    }
   },
   "cell_type": "code",
   "source": [
    "import random\n",
    "import string"
   ],
   "id": "b747173441c0dfd6",
   "outputs": [],
   "execution_count": 3
  },
  {
   "metadata": {},
   "cell_type": "markdown",
   "source": [
    "#### Um pobre lenhador descobre uma gruta c um tesouro de um grp de quarenta ladrões. Sem forma de entrar na impenetrável gruta, o lenhador decidiu esconder-se e aguardar pela chegada do grupo de ladrões. A sua espera foi recompensada qd descobriu q a enorme pedra q tapava a entrada da gruta podia ser movida c as palavras “Abre-te, sésamo”. Após os ladrões terem saído da gruta, o lenhador decidiu entrar e ficar c uma parte do tesouro para si. Cm tinha medo de algum dia voltar à gruta e poder ser apanhado, decidiu q iria levar apenas aquilo q fosse capaz de carregar no saco q traria c ele naquele momento. Mas q tesouros deveria escolher pra conseguir maximizar o valor do seu pequeno tesouro? Utilize os conceitos de AG pra desenvolver uma solução pra esta versão do problema de Knapsack.\n",
    "##### a) Considere a existência de 15 objetos q o lenhador podia escolher, c a existência de valores q representam o seu peso e valor (monetário). Classifique os objetos de forma manual, ou crie uma list random dos mms."
   ],
   "id": "ab489724560cb5a8"
  },
  {
   "cell_type": "code",
   "id": "initial_id",
   "metadata": {
    "collapsed": true,
    "ExecuteTime": {
     "end_time": "2025-04-29T11:03:36.653113Z",
     "start_time": "2025-04-29T11:03:36.647112Z"
    }
   },
   "source": [
    "# classifica os objetos de forma manual\n",
    "objetos = [\n",
    "    {\"id\": 1, \"nome\": \"Colar de ouro\",         \"peso\": 3,  \"valor\": 80},\n",
    "    {\"id\": 2, \"nome\": \"Moeda antiga\",          \"peso\": 2,  \"valor\": 40},\n",
    "    {\"id\": 3, \"nome\": \"Estátua pequena\",       \"peso\": 7,  \"valor\": 60},\n",
    "    {\"id\": 4, \"nome\": \"Mapa raro\",             \"peso\": 1,  \"valor\": 30},\n",
    "    {\"id\": 5, \"nome\": \"Espada valiosa\",        \"peso\": 10, \"valor\": 90},\n",
    "    {\"id\": 6, \"nome\": \"Cálice de prata\",       \"peso\": 5,  \"valor\": 55},\n",
    "    {\"id\": 7, \"nome\": \"Pulseira de diamantes\", \"peso\": 1,  \"valor\": 70},\n",
    "    {\"id\": 8, \"nome\": \"Anel mágico\",           \"peso\": 1,  \"valor\": 100},\n",
    "    {\"id\": 9, \"nome\": \"Relíquia sagrada\",      \"peso\": 4,  \"valor\": 60},\n",
    "    {\"id\":10, \"nome\": \"Livro antigo\",          \"peso\": 6,  \"valor\": 45},\n",
    "    {\"id\":11, \"nome\": \"Coroa real\",            \"peso\": 8,  \"valor\": 95},\n",
    "    {\"id\":12, \"nome\": \"Tigela de jade\",        \"peso\": 3,  \"valor\": 50},\n",
    "    {\"id\":13, \"nome\": \"Bracelete tribal\",      \"peso\": 2,  \"valor\": 35},\n",
    "    {\"id\":14, \"nome\": \"Lanterna encantada\",    \"peso\": 6,  \"valor\": 65},\n",
    "    {\"id\":15, \"nome\": \"Pingente de rubi\",      \"peso\": 2,  \"valor\": 75}\n",
    "]"
   ],
   "outputs": [],
   "execution_count": 6
  },
  {
   "metadata": {},
   "cell_type": "code",
   "source": [
    "# versão alternativa: criar uma list random dos objetos\n",
    "def gerar_objetos(n=15):\n",
    "    objetos = []\n",
    "    for i in range(1, n+1):\n",
    "        peso = random.randint(1, 15)\n",
    "        valor = random.randint(10, 100)\n",
    "        objetos.append({\"id\": i, \"peso\": peso, \"valor\": valor})\n",
    "    return objetos\n",
    "\n",
    "# Exemplo de uso\n",
    "objetos = gerar_objetos()\n",
    "for obj in objetos:\n",
    "    print(f\"Objeto {obj['id']} - Peso: {obj['peso']} kg, Valor: {obj['valor']} €\")"
   ],
   "id": "2483a0b65af53a81",
   "outputs": [],
   "execution_count": null
  },
  {
   "metadata": {},
   "cell_type": "markdown",
   "source": "##### b) Construa uma população composta por 25 indivíduos cujos cromossomas são compostos pela combinação random de objetos q podem estar presentes no saco do lenhador num determinado instante temporal.",
   "id": "7bfbe9356b0632c4"
  },
  {
   "metadata": {
    "ExecuteTime": {
     "end_time": "2025-04-29T11:04:34.883309Z",
     "start_time": "2025-04-29T11:04:34.879327Z"
    }
   },
   "cell_type": "code",
   "source": [
    "# Criar um indivíduo (cromossoma)\n",
    "def criar_individuo(n_objetos=15):\n",
    "    return [random.choice([0, 1]) for _ in range(n_objetos)]\n",
    "\n",
    "\n",
    "# Criar a população\n",
    "def criar_populacao(tamanho_populacao=25, n_objetos=15):\n",
    "    return [criar_individuo(n_objetos) for _ in range(tamanho_populacao)]"
   ],
   "id": "3eced9c404cb9116",
   "outputs": [],
   "execution_count": 7
  },
  {
   "metadata": {
    "ExecuteTime": {
     "end_time": "2025-04-29T11:04:59.275768Z",
     "start_time": "2025-04-29T11:04:59.270256Z"
    }
   },
   "cell_type": "code",
   "source": [
    "# 📌 Exemplo de uso\n",
    "populacao = criar_populacao()\n",
    "\n",
    "# Mostrar os primeiros 5 indivíduos\n",
    "print(\"Exemplos de cromossomas:\")\n",
    "for i, ind in enumerate(populacao[:5]):\n",
    "    print(f\"Indivíduo {i+1}: {ind}\")"
   ],
   "id": "1e665ec300568e3c",
   "outputs": [
    {
     "name": "stdout",
     "output_type": "stream",
     "text": [
      "Exemplos de cromossomas:\n",
      "Indivíduo 1: [1, 1, 1, 0, 1, 1, 0, 1, 1, 1, 1, 1, 1, 1, 1]\n",
      "Indivíduo 2: [0, 1, 1, 0, 1, 0, 0, 0, 0, 0, 1, 0, 1, 1, 1]\n",
      "Indivíduo 3: [0, 0, 1, 0, 1, 1, 0, 1, 1, 0, 1, 1, 0, 0, 1]\n",
      "Indivíduo 4: [0, 1, 1, 0, 0, 0, 0, 1, 0, 0, 0, 1, 0, 1, 0]\n",
      "Indivíduo 5: [0, 0, 0, 1, 1, 0, 0, 0, 0, 1, 1, 1, 0, 1, 1]\n"
     ]
    }
   ],
   "execution_count": 8
  },
  {
   "metadata": {},
   "cell_type": "markdown",
   "source": "##### c)  Identifique qual seria a função de fitness + adequada pra esta solução e implemente-a. Note q, uma vez q o peso q o saco do lenhador é limitado, se pretende maximizar o valor roubado minimizando o seu peso.",
   "id": "65f464f18e3cf544"
  },
  {
   "metadata": {
    "ExecuteTime": {
     "end_time": "2025-04-29T11:06:17.531606Z",
     "start_time": "2025-04-29T11:06:17.527740Z"
    }
   },
   "cell_type": "code",
   "source": [
    "def calcular_fitness(individuo, objetos, peso_maximo=37):\n",
    "    peso_total = 0\n",
    "    valor_total = 0\n",
    "\n",
    "    for i in range(len(individuo)):\n",
    "        if individuo[i] == 1:\n",
    "            peso_total += objetos[i]['peso']\n",
    "            valor_total += objetos[i]['valor']\n",
    "\n",
    "    if peso_total > peso_maximo:\n",
    "        return 0  # penalização por excesso de peso\n",
    "    else:\n",
    "        return valor_total"
   ],
   "id": "fe5f542e86e6d9d8",
   "outputs": [],
   "execution_count": 9
  },
  {
   "metadata": {
    "ExecuteTime": {
     "end_time": "2025-04-29T11:06:22.557865Z",
     "start_time": "2025-04-29T11:06:22.550006Z"
    }
   },
   "cell_type": "code",
   "source": [
    "# 📌 Exemplo de uso\n",
    "# Lista de objetos já definida (ver alínea a)\n",
    "objetos = [\n",
    "    {\"id\": 1, \"nome\": \"Colar de ouro\",         \"peso\": 3,  \"valor\": 80},\n",
    "    {\"id\": 2, \"nome\": \"Moeda antiga\",          \"peso\": 2,  \"valor\": 40},\n",
    "    {\"id\": 3, \"nome\": \"Estátua pequena\",       \"peso\": 7,  \"valor\": 60},\n",
    "    {\"id\": 4, \"nome\": \"Mapa raro\",             \"peso\": 1,  \"valor\": 30},\n",
    "    {\"id\": 5, \"nome\": \"Espada valiosa\",        \"peso\": 10, \"valor\": 90},\n",
    "    {\"id\": 6, \"nome\": \"Cálice de prata\",       \"peso\": 5,  \"valor\": 55},\n",
    "    {\"id\": 7, \"nome\": \"Pulseira de diamantes\", \"peso\": 1,  \"valor\": 70},\n",
    "    {\"id\": 8, \"nome\": \"Anel mágico\",           \"peso\": 1,  \"valor\": 100},\n",
    "    {\"id\": 9, \"nome\": \"Relíquia sagrada\",      \"peso\": 4,  \"valor\": 60},\n",
    "    {\"id\":10, \"nome\": \"Livro antigo\",          \"peso\": 6,  \"valor\": 45},\n",
    "    {\"id\":11, \"nome\": \"Coroa real\",            \"peso\": 8,  \"valor\": 95},\n",
    "    {\"id\":12, \"nome\": \"Tigela de jade\",        \"peso\": 3,  \"valor\": 50},\n",
    "    {\"id\":13, \"nome\": \"Bracelete tribal\",      \"peso\": 2,  \"valor\": 35},\n",
    "    {\"id\":14, \"nome\": \"Lanterna encantada\",    \"peso\": 6,  \"valor\": 65},\n",
    "    {\"id\":15, \"nome\": \"Pingente de rubi\",      \"peso\": 2,  \"valor\": 75}\n",
    "]\n",
    "\n",
    "# Criar população (alínea b)\n",
    "populacao = criar_populacao(tamanho_populacao=25, n_objetos=15)\n",
    "\n",
    "# Avaliar fitness de cada indivíduo\n",
    "print(\"\\nFitness dos primeiros 5 indivíduos:\")\n",
    "for i, individuo in enumerate(populacao[:5]):\n",
    "    fitness = calcular_fitness(individuo, objetos)\n",
    "    print(f\"Indivíduo {i+1}: {individuo} -> Fitness: {fitness}\")"
   ],
   "id": "692b74f1d471de9c",
   "outputs": [
    {
     "name": "stdout",
     "output_type": "stream",
     "text": [
      "\n",
      "Fitness dos primeiros 5 indivíduos:\n",
      "Indivíduo 1: [0, 1, 0, 0, 0, 0, 0, 1, 1, 1, 1, 0, 1, 0, 1] -> Fitness: 450\n",
      "Indivíduo 2: [1, 1, 1, 0, 1, 1, 1, 0, 1, 1, 0, 1, 1, 0, 1] -> Fitness: 0\n",
      "Indivíduo 3: [1, 1, 1, 1, 1, 0, 1, 1, 1, 1, 0, 0, 1, 0, 1] -> Fitness: 0\n",
      "Indivíduo 4: [1, 1, 1, 0, 0, 0, 0, 0, 0, 1, 1, 0, 0, 0, 0] -> Fitness: 320\n",
      "Indivíduo 5: [1, 0, 1, 0, 1, 1, 1, 1, 1, 0, 1, 1, 1, 1, 1] -> Fitness: 0\n"
     ]
    }
   ],
   "execution_count": 10
  },
  {
   "metadata": {},
   "cell_type": "markdown",
   "source": "##### d) Calcule o valor de fitness pra cd individuo q está presente na população inicial, considerando q o lenhador apenas csg carregar no máx 37kg.",
   "id": "648f7299c5da1efa"
  },
  {
   "metadata": {
    "ExecuteTime": {
     "end_time": "2025-04-29T11:07:15.066476Z",
     "start_time": "2025-04-29T11:07:15.061661Z"
    }
   },
   "cell_type": "code",
   "source": [
    "# Criar população (25 indivíduos)\n",
    "populacao = criar_populacao(tamanho_populacao=25, n_objetos=15)\n",
    "\n",
    "# Avaliar e guardar fitness de todos os indivíduos\n",
    "avaliados = [(ind, calcular_fitness(ind, objetos)) for ind in populacao]\n",
    "\n",
    "# Ordenar por fitness decrescente\n",
    "avaliados_ordenados = sorted(avaliados, key=lambda x: x[1], reverse=True)\n",
    "\n",
    "# Mostrar resultados\n",
    "print(\"\\nTop 5 indivíduos com melhor fitness (valor total sem ultrapassar 37kg):\")\n",
    "for i in range(5):\n",
    "    cromossoma, fitness = avaliados_ordenados[i]\n",
    "    print(f\"{i+1}. Indivíduo: {cromossoma} | Fitness: {fitness}\")"
   ],
   "id": "12dd96b210ac09b6",
   "outputs": [
    {
     "name": "stdout",
     "output_type": "stream",
     "text": [
      "\n",
      "Top 5 indivíduos com melhor fitness (valor total sem ultrapassar 37kg):\n",
      "1. Indivíduo: [1, 0, 0, 0, 0, 1, 1, 1, 0, 1, 1, 1, 1, 1, 0] | Fitness: 595\n",
      "2. Indivíduo: [1, 0, 1, 0, 1, 0, 0, 1, 1, 0, 0, 0, 1, 1, 1] | Fitness: 565\n",
      "3. Indivíduo: [1, 0, 0, 1, 1, 0, 1, 1, 1, 0, 1, 0, 1, 0, 0] | Fitness: 560\n",
      "4. Indivíduo: [1, 1, 1, 1, 1, 0, 1, 0, 0, 1, 0, 0, 0, 1, 0] | Fitness: 480\n",
      "5. Indivíduo: [0, 0, 0, 0, 1, 1, 1, 0, 1, 1, 0, 0, 1, 0, 1] | Fitness: 430\n"
     ]
    }
   ],
   "execution_count": 11
  }
 ],
 "metadata": {
  "kernelspec": {
   "display_name": "Python 3",
   "language": "python",
   "name": "python3"
  },
  "language_info": {
   "codemirror_mode": {
    "name": "ipython",
    "version": 2
   },
   "file_extension": ".py",
   "mimetype": "text/x-python",
   "name": "python",
   "nbconvert_exporter": "python",
   "pygments_lexer": "ipython2",
   "version": "2.7.6"
  }
 },
 "nbformat": 4,
 "nbformat_minor": 5
}
